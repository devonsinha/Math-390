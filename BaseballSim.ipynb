{
 "cells": [
  {
   "cell_type": "markdown",
   "id": "f97edf66",
   "metadata": {},
   "source": [
    "### IDEA: Simulate baseball states given different hit probabilities, and then compare to historical data/simulations\n",
    "\n",
    "Key Notes: In the second box, percentages corresponding to single, double, triple, HR, walk, and out can all be edited"
   ]
  },
  {
   "cell_type": "code",
   "execution_count": 1,
   "id": "0756f101",
   "metadata": {},
   "outputs": [],
   "source": [
    "import random as rand\n",
    "import numpy as np\n",
    "import copy\n"
   ]
  },
  {
   "cell_type": "code",
   "execution_count": 2,
   "id": "be720a2f",
   "metadata": {},
   "outputs": [],
   "source": [
    "rand.seed(123)\n",
    "single= (0.25)*.66 #66% of all hits\n",
    "double= (0.25)*.2 #20% of all hits\n",
    "triple= (0.25)*.02 #2 percent of all hits\n",
    "homerun= (0.25)*.12 #12% of hits\n",
    "walk=0.08\n",
    "out=1-(single+double+triple+homerun+walk)\n",
    "\n",
    "lst=[single, double, triple, homerun, walk, out]\n",
    "\n",
    "#totalruns=0\n",
    "current_state=[0,0,0,0]\n",
    "globalDict={}\n",
    "\n",
    "terminator=\"off\"\n",
    "runslst=[]"
   ]
  },
  {
   "cell_type": "code",
   "execution_count": 3,
   "id": "602e5c86",
   "metadata": {},
   "outputs": [],
   "source": [
    "\n",
    "\n",
    "def randomNUM(lst):\n",
    "    return(np.random.choice([\"single\", \"double\", \"triple\", \"homerun\", \"walk\", \"out\"], \n",
    "                            p=lst))\n",
    "\n",
    "def updateDict(current_state, globalDict):\n",
    "    #print(\"UpdtateDict\",totalruns)\n",
    "    if(tuple(current_state) not in globalDict):\n",
    "        globalDict[tuple(current_state)]=[0, 0]\n",
    "        \n",
    "    globalDict[tuple(current_state)][0]+=1\n",
    "    globalDict[tuple(current_state)][1]-=(totalruns)\n",
    "    #print(\"endUpdate\",globalDict[tuple(current_state)][1])\n",
    "\n",
    "def simInning():\n",
    "    ### maybe a while lopp in here\n",
    "    global totalruns\n",
    "    totalruns=0\n",
    "    current_state=[0,0,0,0]\n",
    "    #globalDict[current_state]=[1,0]\n",
    "    global terminator\n",
    "    terminator=\"off1\"\n",
    "    states=[]\n",
    "    \n",
    "    while(current_state[0]<3):\n",
    "        updateCurrentState(globalDict, current_state, states)\n",
    "        #print(\"H\", states)\n",
    "    finalUpdate(globalDict, states)\n",
    "    runslst.append(copy.copy(totalruns))\n",
    "    \n",
    "    \n",
    "def finalUpdate(globalDict, states):\n",
    "    for elem in states:\n",
    "        globalDict[tuple(elem)][1]+=totalruns\n",
    "    \n",
    "    \n",
    "    \n",
    "def updateCurrentState(globalDict, current_state, states):\n",
    "    global terminator\n",
    "    #print(\"terminator\", terminator)\n",
    "    if(terminator==\"off1\"):\n",
    "        updateDict(current_state, globalDict)\n",
    "        terminator=\"off\"\n",
    "        states.append([0,0,0,0])\n",
    "    aB=randomNUM(lst)\n",
    "    if aB==\"out\":\n",
    "        current_state[0]+=1\n",
    "        if(current_state[0]!=3):\n",
    "            updateDict(current_state, globalDict)\n",
    "        else:\n",
    "            terminator=\"on\"\n",
    "            return\n",
    "    if aB==\"single\" or aB==\"walk\":\n",
    "        singleWalk(current_state)\n",
    "        updateDict(current_state, globalDict)\n",
    "    if aB==\"double\":\n",
    "        double(current_state)\n",
    "        updateDict(current_state, globalDict)\n",
    "    if aB==\"triple\":\n",
    "        triple(current_state)\n",
    "        updateDict(current_state, globalDict)\n",
    "    if aB==\"homerun\":\n",
    "        homerun(current_state)\n",
    "        updateDict(current_state, globalDict)\n",
    "    if current_state[0]!=3:\n",
    "        b=current_state\n",
    "        states.append(copy.copy(b))\n",
    "        \n",
    "    #print(aB, current_state)\n",
    "    return\n",
    "        \n",
    "    \n",
    "def calculateRuns(globalDict):\n",
    "    averageRunsPerState={}\n",
    "    for key in globalDict:\n",
    "        averageRunsPerState[key]=globalDict[key][1]/globalDict[key][0]\n",
    "        \n",
    "    for k, v in averageRunsPerState.items():\n",
    "        print(k, v)\n",
    "                                                            \n",
    "        \n",
    "\n",
    "def singleWalk(current_state):\n",
    "    global totalruns\n",
    "    if current_state[3]==1:\n",
    "        current_state[3]=0\n",
    "        totalruns+=1\n",
    "        \n",
    "    if current_state[2]==1:\n",
    "        current_state[3]=1\n",
    "        current_state[2]=0\n",
    "        \n",
    "    if current_state[1]==1:\n",
    "        current_state[2]=1\n",
    "    current_state[1]=1\n",
    "    return\n",
    "\n",
    "def double(current_state):\n",
    "    global totalruns\n",
    "    if current_state[3]==1:\n",
    "        current_state[3]=0\n",
    "        totalruns+=1\n",
    "        \n",
    "    if current_state[2]==1:\n",
    "        totalruns+=1\n",
    "        \n",
    "    if current_state[1]==1:\n",
    "        current_state[3]=1\n",
    "        current_state[1]=0\n",
    "    current_state[2]=1\n",
    "    return\n",
    "\n",
    "def triple(current_state):\n",
    "    global totalruns\n",
    "    if current_state[3]==1:\n",
    "        current_state[3]=0\n",
    "        totalruns+=1\n",
    "        \n",
    "    if current_state[2]==1:\n",
    "        current_state[2]=0\n",
    "        totalruns+=1\n",
    "        \n",
    "    if current_state[1]==1:\n",
    "        current_state[1]=0\n",
    "        totalruns+=1\n",
    "    current_state[3]=1\n",
    "    return\n",
    "\n",
    "def homerun(current_state):\n",
    "    global totalruns\n",
    "    totalruns+=sum(current_state[1:])\n",
    "    current_state[1]=0\n",
    "    current_state[2]=0\n",
    "    current_state[3]=0\n",
    "\n",
    "\n",
    "\n",
    "\n",
    "        \n",
    "        \n",
    "\n",
    "    \n",
    "    "
   ]
  },
  {
   "cell_type": "code",
   "execution_count": 4,
   "id": "553597ad",
   "metadata": {},
   "outputs": [],
   "source": [
    "for i in range(100000):\n",
    "    simInning()\n",
    "    "
   ]
  },
  {
   "cell_type": "code",
   "execution_count": 5,
   "id": "44794ed8",
   "metadata": {},
   "outputs": [
    {
     "name": "stdout",
     "output_type": "stream",
     "text": [
      "(0, 0, 0, 0) 0.31213834131971346\n",
      "(1, 0, 0, 0) 0.15234595058615233\n",
      "(2, 0, 0, 0) 0.04800029380439972\n",
      "(2, 1, 0, 0) 0.14156031398515512\n",
      "(2, 1, 1, 0) 0.30657469914881125\n",
      "(0, 1, 0, 0) 0.6367819677884803\n",
      "(1, 1, 0, 0) 0.35776937088412497\n",
      "(0, 0, 1, 0) 0.7890420519979061\n",
      "(1, 0, 1, 0) 0.4776992444552766\n",
      "(2, 0, 1, 0) 0.21416911524649038\n",
      "(2, 1, 0, 1) 0.48052717310824816\n",
      "(0, 1, 1, 0) 1.1027235050325637\n",
      "(1, 1, 1, 0) 0.6974344673731177\n",
      "(1, 1, 1, 1) 1.2550182481751824\n",
      "(1, 0, 1, 1) 1.0186393289841567\n",
      "(2, 0, 1, 1) 0.5400912167132559\n",
      "(2, 1, 1, 1) 0.6533647594278283\n",
      "(0, 0, 1, 1) 1.4797149122807018\n",
      "(0, 1, 0, 1) 1.3990174672489082\n",
      "(1, 1, 0, 1) 0.9261633428300095\n",
      "(0, 1, 1, 1) 1.792979297929793\n",
      "(1, 0, 0, 1) 0.679902755267423\n",
      "(2, 0, 0, 1) 0.3739021329987453\n",
      "(0, 0, 0, 1) 0.9847009735744089\n"
     ]
    }
   ],
   "source": [
    "calculateRuns(globalDict)"
   ]
  },
  {
   "cell_type": "markdown",
   "id": "8859bd2f",
   "metadata": {},
   "source": [
    "### Analysis\n",
    "\n",
    "As I tried to closely tie my at bat scenarios (single, double, triple, hr, bb, out) to their true league average, I think it would be interesting to compare my models' ER for each state compared with ER's based on MLB data. \n",
    "\n",
    "Comparing my states to the ones found at https://gregstoll.com/~gregstoll/baseball/runsperinning.html , it is evident that my model slightly underpredicts the total amount of expected runs at each state.\n",
    "\n",
    "This is likely due to the fact that of elements of baseball that aren't included in my model, the positive offensive factors likely outweigh positive defensive factors.\n",
    "\n",
    "For example, the exclusion of steals, sacflies, and erros (all positive offensive factors), likely weigh more than the exclusion of double/triple plays and runners caught stealing."
   ]
  },
  {
   "cell_type": "code",
   "execution_count": 6,
   "id": "bd249e23",
   "metadata": {},
   "outputs": [
    {
     "data": {
      "text/plain": [
       "(array([9.2033e+04, 6.6010e+03, 1.1220e+03, 2.0900e+02, 3.3000e+01,\n",
       "        2.0000e+00]),\n",
       " array([ 0.        ,  1.83333333,  3.66666667,  5.5       ,  7.33333333,\n",
       "         9.16666667, 11.        ]),\n",
       " <BarContainer object of 6 artists>)"
      ]
     },
     "execution_count": 6,
     "metadata": {},
     "output_type": "execute_result"
    },
    {
     "data": {
      "image/png": "[encoded data removed]",
      "text/plain": [
       "<Figure size 432x288 with 1 Axes>"
      ]
     },
     "metadata": {
      "needs_background": "light"
     },
     "output_type": "display_data"
    }
   ],
   "source": [
    "from matplotlib import pyplot as plt\n",
    "\n",
    "plt.hist(runslst, 6)"
   ]
  },
  {
   "cell_type": "markdown",
   "id": "86ff5800",
   "metadata": {},
   "source": [
    "### Future Steps\n",
    "\n",
    "As my model clearly underpredicts expected runs, good next steps would involve somehow incorporating sacflies, errors (wild pitches, etc), and stolen bases into my model. This should help the expected runs for each state become more accurate. As well, it could be possible to inflate the single, double, triple, walk, and HR percentages in this oversimplistic model."
   ]
  },
  {
   "cell_type": "code",
   "execution_count": null,
   "id": "261f1b4a",
   "metadata": {},
   "outputs": [],
   "source": []
  }
 ],
 "metadata": {
  "kernelspec": {
   "display_name": "Python 3",
   "language": "python",
   "name": "python3"
  },
  "language_info": {
   "codemirror_mode": {
    "name": "ipython",
    "version": 3
   },
   "file_extension": ".py",
   "mimetype": "text/x-python",
   "name": "python",
   "nbconvert_exporter": "python",
   "pygments_lexer": "ipython3",
   "version": "3.6.4"
  }
 },
 "nbformat": 4,
 "nbformat_minor": 5
}
