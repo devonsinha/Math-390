{
 "cells": [
  {
   "cell_type": "code",
   "execution_count": 1,
   "id": "b001236c",
   "metadata": {},
   "outputs": [],
   "source": [
    "###Upload my -eve files here"
   ]
  },
  {
   "cell_type": "code",
   "execution_count": 2,
   "id": "33825685",
   "metadata": {},
   "outputs": [],
   "source": [
    "import numpy as np\n",
    "import pandas as pd\n",
    "import copy\n",
    "import collections"
   ]
  },
  {
   "cell_type": "code",
   "execution_count": null,
   "id": "1036e598",
   "metadata": {},
   "outputs": [],
   "source": []
  },
  {
   "cell_type": "code",
   "execution_count": 3,
   "id": "28e63ddd",
   "metadata": {},
   "outputs": [
    {
     "name": "stdout",
     "output_type": "stream",
     "text": [
      "   inning AorH  result\n",
      "52      1    0       K\n",
      "53      1    0  53/G56\n",
      "54      1    0  S8/G4M\n",
      "55      1    0  8/F8XD\n",
      "56      1    1       W\n",
      "  inning AorH  result\n",
      "0      1    0       K\n",
      "1      1    0  53/G56\n",
      "2      1    0  S8/G4M\n",
      "3      1    0  8/F8XD\n",
      "4      1    1       W\n"
     ]
    }
   ],
   "source": [
    "angels=pd.read_csv(\"/Users/devon.sinha/Desktop/Math 390/2020EVE/2020ANA.csv\")\n",
    "angels=angels[angels.id==\"play\"]\n",
    "\n",
    "angels.columns=[\"id\", \"inning\", \"AorH\", \"toDel\", \"del\", \"Delete\", \"result\"]\n",
    "mTrout=angels\n",
    "mTrout=mTrout.drop(columns=[\"id\", \"del\", \"Delete\"])\n",
    "mTrout=mTrout[mTrout.toDel==\"troum001\"]\n",
    "\n",
    "\n",
    "angels=angels.drop(columns=[\"id\",\"toDel\", \"del\", \"Delete\"])\n",
    "\n",
    "print(angels.head())\n",
    "\n",
    "angels=angels.reset_index()\n",
    "angels=angels.drop(columns=[\"index\"])\n",
    "\n",
    "print(angels.head())\n",
    "\n",
    "global df\n",
    "\n",
    "df=angels\n",
    "\n"
   ]
  },
  {
   "cell_type": "code",
   "execution_count": 4,
   "id": "50450b8b",
   "metadata": {},
   "outputs": [],
   "source": [
    "###make functions here\n",
    "globalDict={}\n",
    "def initialize_state():\n",
    "    global df\n",
    "    ##need to make sure Df's size actually gets modified in functions IT currently is not!!\n",
    "    while np.size(df)>0:\n",
    "        calcStates(globalDict)\n",
    "    \n",
    "    \n",
    "def updateDict(globalDict):\n",
    "    global current_state\n",
    "    #print(\"UpdtateDict\",totalruns)\n",
    "    if(tuple(current_state) not in globalDict):\n",
    "        globalDict[tuple(current_state)]=[0, 0]\n",
    "        \n",
    "    globalDict[tuple(current_state)][0]+=1\n",
    "    globalDict[tuple(current_state)][1]-=(totalruns)\n",
    "    #print(\"endUpdate\",globalDict[tuple(current_state)][1])\n",
    "    \n",
    "    \n",
    "def calcStates(globalDict):\n",
    "    global current_state\n",
    "    global totalruns\n",
    "    global df\n",
    "\n",
    "    \n",
    "    totalruns=0\n",
    "    current_inning=df.iloc[0][0]\n",
    "    current_AorH=df.iloc[0][1]\n",
    "    current_state=[0,0,0,0]\n",
    "    states=[]\n",
    "    ###while in the same half inning\n",
    "    ##need to edit so it only runs for a half inning\n",
    "    while(np.size(df)>0 and current_inning==df.iloc[0][0] and current_AorH==df.iloc[0][1]):\n",
    "        ###need to process and delete rows here\n",
    "        play=df.iloc[0][2]\n",
    "        df=df.drop(labels=0, axis=0)\n",
    "        df=df.reset_index()\n",
    "        df=df.drop(columns=[\"index\"])\n",
    "        spt=play.split(\".\")\n",
    "        if(len(spt)>1):\n",
    "            advanced= spt[1]\n",
    "            advanceRunners(advanced)\n",
    "        hit=play.split(\".\")[0]\n",
    "        processHit(hit)\n",
    "        if current_state[0]<3:\n",
    "            updateDict(globalDict)\n",
    "            states.append(copy.copy(current_state))\n",
    "    finalUpdate(states)\n",
    "\n",
    "def finalUpdate(states): \n",
    "    for elem in states:\n",
    "        globalDict[tuple(elem)][1]+=totalruns\n",
    "    \n",
    "\n",
    "def processHit(hit):\n",
    "    global current_state\n",
    "    global totalruns\n",
    "    firstLetter=hit[0]\n",
    "    doublePlay=\"DP\" in hit or \"dp\" in hit\n",
    "    out=firstLetter not in [\"S\",\"D\", \"T\", \"W\", \"H\", \"E\", \"N\", \"P\"]\n",
    "    notOut=firstLetter in [\"S\", \"D\", \"T\", \"W\", \"H\"]\n",
    "    if out:\n",
    "        if doublePlay:\n",
    "            current_state[0]+=2\n",
    "        else:\n",
    "            current_state[0]+=1\n",
    "        if current_state[0]>3:\n",
    "            current_state[0]=3\n",
    "    if notOut:\n",
    "        if firstLetter==\"S\" or firstLetter==\"W\":\n",
    "            current_state[1]=1\n",
    "        if firstLetter==\"D\":\n",
    "            current_state[2]=1\n",
    "        if firstLetter==\"T\":\n",
    "            current_state[3]=1\n",
    "        if firstLetter==\"H\":\n",
    "            totalruns+=1\n",
    "    \n",
    "\n",
    "##advanceRunners takes care of any advancements\n",
    "def advanceRunners(advanced):\n",
    "    global current_state\n",
    "    global totalruns\n",
    "    if \"-\" in advanced:\n",
    "        advanced=advanced.replace(\"H\", \"4\")\n",
    "        advancements=advanced.split(\";\")\n",
    "        for elem in advancements:\n",
    "            if(elem[0] in [\"1\",\"2\",\"3\"]):\n",
    "                current_state[int(elem[0])]=0\n",
    "            if int(elem[2])==4:\n",
    "                totalruns+=1\n",
    "            else:\n",
    "                current_state[int(elem[2])]=1\n",
    "\n",
    "            \n",
    "def calculateRuns(globalDict):\n",
    "    averageRunsPerState={}\n",
    "    for key in globalDict:\n",
    "        averageRunsPerState[key]=globalDict[key][1]/globalDict[key][0]\n",
    "     \n",
    "    od = collections.OrderedDict(sorted(averageRunsPerState.items()))\n",
    "    #for k, v in averageRunsPerState.items():\n",
    "        #print(k, v)\n",
    "                       \n",
    "\n",
    "    for k, v in od.items(): \n",
    "        print(k, v)\n",
    "\n",
    "    "
   ]
  },
  {
   "cell_type": "code",
   "execution_count": 5,
   "id": "72ec6b31",
   "metadata": {},
   "outputs": [],
   "source": [
    "### repeat CalcStates until DF is empty\n",
    "\n"
   ]
  },
  {
   "cell_type": "code",
   "execution_count": 6,
   "id": "227499c2",
   "metadata": {},
   "outputs": [],
   "source": [
    "initialize_state()\n"
   ]
  },
  {
   "cell_type": "code",
   "execution_count": 7,
   "id": "15ad0f68",
   "metadata": {},
   "outputs": [
    {
     "name": "stdout",
     "output_type": "stream",
     "text": [
      "EXPECTED AMOUNT OF RUNS IN EACH STATE FOR THE 2020 ANGELS\n",
      "(0, 0, 0, 0) 0.6791044776119403\n",
      "(0, 0, 0, 1) 1.1428571428571428\n",
      "(0, 0, 1, 0) 1.1458333333333333\n",
      "(0, 0, 1, 1) 2.1666666666666665\n",
      "(0, 1, 0, 0) 1.0677966101694916\n",
      "(0, 1, 0, 1) 1.588235294117647\n",
      "(0, 1, 1, 0) 1.7868852459016393\n",
      "(0, 1, 1, 1) 2.411764705882353\n",
      "(1, 0, 0, 0) 0.31313131313131315\n",
      "(1, 0, 0, 1) 0.8888888888888888\n",
      "(1, 0, 1, 0) 0.84\n",
      "(1, 0, 1, 1) 1.2380952380952381\n",
      "(1, 1, 0, 0) 0.6116504854368932\n",
      "(1, 1, 0, 1) 1.3170731707317074\n",
      "(1, 1, 1, 0) 0.9142857142857143\n",
      "(1, 1, 1, 1) 2.210526315789474\n",
      "(2, 0, 0, 0) 0.14556962025316456\n",
      "(2, 0, 0, 1) 0.47619047619047616\n",
      "(2, 0, 1, 0) 0.32857142857142857\n",
      "(2, 0, 1, 1) 0.6\n",
      "(2, 1, 0, 0) 0.30869565217391304\n",
      "(2, 1, 0, 1) 0.6451612903225806\n",
      "(2, 1, 1, 0) 0.5425531914893617\n",
      "(2, 1, 1, 1) 1.372093023255814\n"
     ]
    }
   ],
   "source": [
    "print(\"EXPECTED AMOUNT OF RUNS IN EACH STATE FOR THE 2020 ANGELS\")\n",
    "calculateRuns(globalDict)"
   ]
  },
  {
   "cell_type": "code",
   "execution_count": null,
   "id": "e64e51c1",
   "metadata": {},
   "outputs": [],
   "source": []
  },
  {
   "cell_type": "markdown",
   "id": "f441e7bf",
   "metadata": {},
   "source": [
    "### Comparing Expected Runs between \"worst\" and \"best\" teams in 2020\n",
    "\n",
    "For analysis, I want to compare the expected amount of runs at each state between the \"best\" and \"worst\" team performacne wise in the MLB in 2020. I am comparing the Dodgers and the Pirates to analyze which states in which the Dodgers outperfrom the Pirates"
   ]
  },
  {
   "cell_type": "code",
   "execution_count": 8,
   "id": "fc64ed13",
   "metadata": {
    "scrolled": true
   },
   "outputs": [
    {
     "name": "stdout",
     "output_type": "stream",
     "text": [
      "   inning AorH       result\n",
      "52      1    0    E6/G+.B-1\n",
      "53      1    0          9/F\n",
      "54      1    0  S5/G.1X2(5)\n",
      "55      1    0     S6/G.1-2\n",
      "56      1    0        13/G-\n",
      "  inning AorH       result\n",
      "0      1    0    E6/G+.B-1\n",
      "1      1    0          9/F\n",
      "2      1    0  S5/G.1X2(5)\n",
      "3      1    0     S6/G.1-2\n",
      "4      1    0        13/G-\n"
     ]
    }
   ],
   "source": [
    "dodgers=pd.read_csv(\"/Users/devon.sinha/Desktop/Math 390/2020EVE/2020LAN.csv\")\n",
    "#print(dodgers.head())\n",
    "dodgers=dodgers[dodgers.id==\"play\"]\n",
    "\n",
    "dodgers.columns=[\"id\", \"inning\", \"AorH\", \"toDel\", \"del\", \"Delete\", \"result\"]\n",
    "\n",
    "\n",
    "\n",
    "dodgers=dodgers.drop(columns=[\"id\",\"toDel\", \"del\", \"Delete\"])\n",
    "\n",
    "print(dodgers.head())\n",
    "\n",
    "dodgers=dodgers.reset_index()\n",
    "dodgers=dodgers.drop(columns=[\"index\"])\n",
    "\n",
    "print(dodgers.head())\n",
    "\n",
    "#global df\n",
    "\n",
    "df=dodgers\n",
    "globalDict={}\n",
    "\n"
   ]
  },
  {
   "cell_type": "code",
   "execution_count": 9,
   "id": "c020b8b0",
   "metadata": {},
   "outputs": [],
   "source": [
    "initialize_state()"
   ]
  },
  {
   "cell_type": "code",
   "execution_count": 10,
   "id": "56fddb5d",
   "metadata": {},
   "outputs": [
    {
     "name": "stdout",
     "output_type": "stream",
     "text": [
      "EXPECTED AMOUNT OF RUNS IN EACH STATE FOR THE 2020 Dodgers\n",
      "(0, 0, 0, 0) 0.7103448275862069\n",
      "(0, 0, 0, 1) 4.0\n",
      "(0, 0, 1, 0) 1.6153846153846154\n",
      "(0, 0, 1, 1) 1.9\n",
      "(0, 1, 0, 0) 0.7777777777777778\n",
      "(0, 1, 0, 1) 1.7692307692307692\n",
      "(0, 1, 1, 0) 1.4857142857142858\n",
      "(0, 1, 1, 1) 1.9473684210526316\n",
      "(1, 0, 0, 0) 0.3117505995203837\n",
      "(1, 0, 0, 1) 0.7142857142857143\n",
      "(1, 0, 1, 0) 0.5957446808510638\n",
      "(1, 0, 1, 1) 1.8181818181818181\n",
      "(1, 1, 0, 0) 0.5674157303370787\n",
      "(1, 1, 0, 1) 0.7777777777777778\n",
      "(1, 1, 1, 0) 0.7049180327868853\n",
      "(1, 1, 1, 1) 0.9090909090909091\n",
      "(2, 0, 0, 0) 0.11384615384615385\n",
      "(2, 0, 0, 1) 0.5454545454545454\n",
      "(2, 0, 1, 0) 0.3220338983050847\n",
      "(2, 0, 1, 1) 1.1875\n",
      "(2, 1, 0, 0) 0.2672811059907834\n",
      "(2, 1, 0, 1) 0.4727272727272727\n",
      "(2, 1, 1, 0) 0.5466666666666666\n",
      "(2, 1, 1, 1) 0.7727272727272727\n"
     ]
    }
   ],
   "source": [
    "print(\"EXPECTED AMOUNT OF RUNS IN EACH STATE FOR THE 2020 Dodgers\")\n",
    "calculateRuns(globalDict)"
   ]
  },
  {
   "cell_type": "code",
   "execution_count": 11,
   "id": "e5b97819",
   "metadata": {},
   "outputs": [
    {
     "name": "stdout",
     "output_type": "stream",
     "text": [
      "   inning AorH   result\n",
      "52      1    0    53/G5\n",
      "53      1    0   S8/G6M\n",
      "54      1    0        K\n",
      "55      1    0  13/G1S-\n",
      "56      1    1    31/G3\n",
      "  inning AorH   result\n",
      "0      1    0    53/G5\n",
      "1      1    0   S8/G6M\n",
      "2      1    0        K\n",
      "3      1    0  13/G1S-\n",
      "4      1    1    31/G3\n"
     ]
    }
   ],
   "source": [
    "pirates=pd.read_csv(\"/Users/devon.sinha/Desktop/Math 390/2020EVE/2020PIT.csv\")\n",
    "#print(dodgers.head())\n",
    "pirates=pirates[pirates.id==\"play\"]\n",
    "\n",
    "pirates.columns=[\"id\", \"inning\", \"AorH\", \"toDel\", \"del\", \"Delete\", \"result\"]\n",
    "\n",
    "\n",
    "\n",
    "pirates=pirates.drop(columns=[\"id\",\"toDel\", \"del\", \"Delete\"])\n",
    "\n",
    "print(pirates.head())\n",
    "\n",
    "pirates=pirates.reset_index()\n",
    "pirates=pirates.drop(columns=[\"index\"])\n",
    "\n",
    "print(pirates.head())\n",
    "\n",
    "#global df\n",
    "\n",
    "df=pirates\n",
    "globalDict={}\n",
    "\n"
   ]
  },
  {
   "cell_type": "code",
   "execution_count": 12,
   "id": "450180f8",
   "metadata": {},
   "outputs": [],
   "source": [
    "initialize_state()"
   ]
  },
  {
   "cell_type": "code",
   "execution_count": 13,
   "id": "e8f470da",
   "metadata": {},
   "outputs": [
    {
     "name": "stdout",
     "output_type": "stream",
     "text": [
      "EXPECTED AMOUNT OF RUNS IN EACH STATE FOR THE 2020 Pirates\n",
      "(0, 0, 0, 0) 0.5909090909090909\n",
      "(0, 0, 0, 1) 1.0\n",
      "(0, 0, 1, 0) 1.5869565217391304\n",
      "(0, 0, 1, 1) 3.1818181818181817\n",
      "(0, 1, 0, 0) 0.8733333333333333\n",
      "(0, 1, 0, 1) 1.5294117647058822\n",
      "(0, 1, 1, 0) 2.111111111111111\n",
      "(0, 1, 1, 1) 2.8076923076923075\n",
      "(1, 0, 0, 0) 0.30295566502463056\n",
      "(1, 0, 0, 1) 1.1666666666666667\n",
      "(1, 0, 1, 0) 0.6181818181818182\n",
      "(1, 0, 1, 1) 1.4\n",
      "(1, 1, 0, 0) 0.5333333333333333\n",
      "(1, 1, 0, 1) 0.625\n",
      "(1, 1, 1, 0) 1.0819672131147542\n",
      "(1, 1, 1, 1) 1.7307692307692308\n",
      "(2, 0, 0, 0) 0.12025316455696203\n",
      "(2, 0, 0, 1) 0.3157894736842105\n",
      "(2, 0, 1, 0) 0.2602739726027397\n",
      "(2, 0, 1, 1) 0.7\n",
      "(2, 1, 0, 0) 0.33185840707964603\n",
      "(2, 1, 0, 1) 0.4909090909090909\n",
      "(2, 1, 1, 0) 0.5955056179775281\n",
      "(2, 1, 1, 1) 0.8181818181818182\n"
     ]
    }
   ],
   "source": [
    "print(\"EXPECTED AMOUNT OF RUNS IN EACH STATE FOR THE 2020 Pirates\")\n",
    "calculateRuns(globalDict)"
   ]
  },
  {
   "cell_type": "code",
   "execution_count": null,
   "id": "b0125269",
   "metadata": {},
   "outputs": [],
   "source": []
  }
 ],
 "metadata": {
  "kernelspec": {
   "display_name": "Python 3",
   "language": "python",
   "name": "python3"
  },
  "language_info": {
   "codemirror_mode": {
    "name": "ipython",
    "version": 3
   },
   "file_extension": ".py",
   "mimetype": "text/x-python",
   "name": "python",
   "nbconvert_exporter": "python",
   "pygments_lexer": "ipython3",
   "version": "3.6.4"
  }
 },
 "nbformat": 4,
 "nbformat_minor": 5
}
